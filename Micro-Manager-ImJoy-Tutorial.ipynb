{
 "cells": [
  {
   "cell_type": "markdown",
   "metadata": {},
   "source": [
    "# Interactive Microscopy Control with ImJoy and MicroManager\n",
    "\n",
    "Author: [Wei OUYANG](https://oeway.github.io/)\n",
    "\n",
    "[ImJoy](https://imjoy.io) is a web framework for building interactive analysis tools. You can also use it to build easy-to-use and interactive data acquisition tool together with MicroManager.\n",
    "\n",
    "In this tutorial notebook, we will go through the steps for using ImJoy plugins with MicroManager to control your microscope interactively. \n",
    "\n",
    "Here is a outline of this tutorial:\n",
    "1. preparation\n",
    "1. Acquire an image and display it with matplotlib\n",
    "1. Acquire and display images continuously with matplotlib\n",
    "1. Build your first ImJoy plugin\n",
    "1. Snap an image in the ImJoy plugin\n",
    "1. Visualize the image with the itk-vtk-viewer plugin\n",
    "1. Use a dedicated UI plugin with MicroManager\n",
    "1. Deploy your plugin to Github and share it\n",
    "1. Additional Resources"
   ]
  },
  {
   "cell_type": "markdown",
   "metadata": {},
   "source": [
    "## Preparation\n",
    "\n",
    "Skip this step if you are running this notebook on Binder, the following preparation steps only concerns your local installation of MicroManager.\n",
    "\n",
    "You will be able to follow this tutorial in a Jupyter notebook on the computer with Micro-Manager.\n",
    "\n",
    "Importantly, MicroManager (the python binding) exposes full access of your microscope to the python scripting interface, please be careful that some commands (e.g. moving the stage) may damage your hardware. Although this tutorial only involves camera control which is safe, we still recommend to disconnect your hardware and start Micro-Manager with the simulated demo devices for exploration, and only connect the hardware when you fully understand the scripts.\n",
    "\n",
    "\n",
    "1. Install Pymmcore, ImJoy and [ImJoy Jupyter Extension](https://github.com/imjoy-team/imjoy-jupyter-extension) by run `pip install pymmcore imjoy imjoy-jupyter-extension`, then start or restart your Jupyter notebook server by using `jupyter notebook` command.\n",
    "2. When you open this Jupyter notebook, make sure you see an ImJoy icon in the toolbar in opened notebooks.\n",
    "3. If you don't have Micro-Manager installed, download the lastest version of [micro-manager 2.0](https://micro-manager.org/wiki/Micro-Manager_Nightly_Builds)\n",
    "4. Run Micro-Manager, select tools-options, and check the box that says Run server on port 4827 (you only need to do this once)\n",
    "\n"
   ]
  },
  {
   "cell_type": "code",
   "execution_count": null,
   "metadata": {
    "scrolled": false
   },
   "outputs": [],
   "source": [
    "# Skip this cell if you are running this notebook on Binder\n",
    "!pip install pymmcore imjoy imjoy-jupyter-extension"
   ]
  },
  {
   "cell_type": "markdown",
   "metadata": {},
   "source": [
    "## Set the path to your micromanager installation and config file\n",
    "\n",
    "After installation, please set the path to your micromanager installation folder and a config file.\n",
    "\n",
    "If you are running on Binder, you can keep the values as is."
   ]
  },
  {
   "cell_type": "code",
   "execution_count": 2,
   "metadata": {},
   "outputs": [],
   "source": [
    "import os\n",
    "\n",
    "MM_DIR = \"./mmcore\"\n",
    "MM_CONFIG_FILE = os.path.join(MM_DIR, \"MMConfig_demo.cfg\")"
   ]
  },
  {
   "cell_type": "markdown",
   "metadata": {},
   "source": [
    "## Acquire an image and display it with matplotlib\n",
    "\n",
    "By calling `core.snapImage()` we can control micromanager to acquire image and use `core.getImage()` to fetch the image data.\n",
    "\n",
    "In a notebook, we can use matplotlib function `plt.imshow` to visualize the image."
   ]
  },
  {
   "cell_type": "code",
   "execution_count": 3,
   "metadata": {},
   "outputs": [
    {
     "data": {
      "text/plain": [
       "<matplotlib.image.AxesImage at 0x7f8f9ef74450>"
      ]
     },
     "execution_count": 3,
     "metadata": {},
     "output_type": "execute_result"
    },
    {
     "data": {
      "image/png": "[encoded data removed]",
      "text/plain": [
       "<Figure size 432x288 with 1 Axes>"
      ]
     },
     "metadata": {
      "needs_background": "light"
     },
     "output_type": "display_data"
    }
   ],
   "source": [
    "import numpy as np\n",
    "from imjoy import api\n",
    "import pymmcore\n",
    "import os.path\n",
    "from matplotlib import pyplot as plt\n",
    "%matplotlib inline\n",
    "\n",
    "mmc = pymmcore.CMMCore()\n",
    "mmc.setDeviceAdapterSearchPaths([MM_DIR])\n",
    "mmc.loadSystemConfiguration(MM_CONFIG_FILE)\n",
    "mmc.snapImage()\n",
    "image = mmc.getImage()\n",
    "plt.imshow(image)"
   ]
  },
  {
   "cell_type": "markdown",
   "metadata": {},
   "source": [
    "## Acquire and display images continuously\n",
    "Since we are doing microscopy imaging with the microscope, it's important to be able to see a live stream, for example, for finding a field of view.\n",
    "\n",
    "Jupyter notebook has little support for visualizing real-time data itself, but we can try to achieve live update by repeatitively clear the plot and draw again."
   ]
  },
  {
   "cell_type": "code",
   "execution_count": 5,
   "metadata": {},
   "outputs": [
    {
     "data": {
      "image/png": "[encoded data removed]",
      "text/plain": [
       "<Figure size 432x288 with 1 Axes>"
      ]
     },
     "metadata": {
      "needs_background": "light"
     },
     "output_type": "display_data"
    }
   ],
   "source": [
    "from IPython.display import clear_output\n",
    "\n",
    "for i in range(10):\n",
    "    clear_output(wait=True)\n",
    "    plt.figure()\n",
    "    plt.title(i)\n",
    "    mmc.snapImage()\n",
    "    image = mmc.getImage()\n",
    "    plt.imshow(image)\n",
    "    plt.show()"
   ]
  },
  {
   "cell_type": "markdown",
   "metadata": {},
   "source": [
    "While we can see the live stream, it provides litte interactivity, for example, if we want to do contrast stretching, we will have to stop the stream and perhaps combine with some jupyter widgets to achieve it.\n",
    "\n",
    "On the other hand, ImJoy is designed for providing this type of application. In the following section, you will see how we can achieve this by building an ImJoy plugin.\n",
    "\n",
    "## Build your first ImJoy plugin\n",
    "\n",
    "Let's start by making a \"hello world\" plugin example with ImJoy.\n",
    "\n",
    "An ImJoy plugin is a class defines at least two functions `setup` and `run`. In the `setup` function we put preparation or initialization code and the `run` function is an entrypoint when the user starts the plugin. As an example, we do nothing in the `setup` function and popup a hello world message in the `run` function.\n",
    "\n",
    "Importantly, you need to export your plugin by running `api.export(ImJoyPlugin())` to register the plugin to the ImJoy core (running in the browser with the notebook page).\n",
    "\n",
    "Now run the following cell.\n",
    "\n",
    "If you see a popup message saying \"hello world\", congrats that you have build your first ImJoy plugin!"
   ]
  },
  {
   "cell_type": "code",
   "execution_count": 7,
   "metadata": {},
   "outputs": [
    {
     "data": {
      "application/javascript": [
       "window.connectPlugin && window.connectPlugin()"
      ],
      "text/plain": [
       "<IPython.core.display.Javascript object>"
      ]
     },
     "metadata": {},
     "output_type": "display_data"
    },
    {
     "data": {
      "text/html": [
       "<div id=\"19ed77ca-10c4-4dcb-a00e-a95b0b650907\"></div>"
      ],
      "text/plain": [
       "<IPython.core.display.HTML object>"
      ]
     },
     "metadata": {},
     "output_type": "display_data"
    }
   ],
   "source": [
    "from imjoy import api\n",
    "\n",
    "class ImJoyPlugin():\n",
    "    '''Defines an ImJoy plugin'''\n",
    "    async def setup(self):\n",
    "        '''for initialization'''\n",
    "        pass\n",
    "\n",
    "    async def run(self, ctx):\n",
    "        '''called when the user run this plugin'''\n",
    "        \n",
    "        # show a popup message\n",
    "        await api.alert(\"hello world\")\n",
    "\n",
    "# register the plugin to the imjoy core\n",
    "api.export(ImJoyPlugin())"
   ]
  },
  {
   "cell_type": "markdown",
   "metadata": {},
   "source": [
    "Note: if the `async` and `await` keywords are new to you, you may want to learn about an imporant programing style called \"asynchronous programming\". It's basically a cheap way to achieve parallelizatin in a single thread, and Python3 provides [asyncio API](https://docs.python.org/3/library/asyncio-task.html) for it. With the async/await syntax, you can write async code as you usually do with your other synchronous code.\n",
    "\n",
    "Don't worry if you don't fully understand asynchronous programming. For now you can treat it the same as regular python programming, but remember the following simplified rules:\n",
    "1. it is recommended to add `await` before every ImJoy api call except `api.export`, e.g.: do `await api.alert(\"hello\")`.\n",
    "2. if you used `await` in a function, then you have to also add `async def` to define the function."
   ]
  },
  {
   "cell_type": "markdown",
   "metadata": {},
   "source": [
    "## Snap an image in the ImJoy plugin\n",
    "\n",
    "Now let's define a function for acquire images with Pycro-Manager and call it `snap_image()`. Add this function into the plugin class and use it in the `run` function.\n",
    "\n",
    "Run the fullowing cell, you should see a message if you acquired an image."
   ]
  },
  {
   "cell_type": "code",
   "execution_count": 12,
   "metadata": {},
   "outputs": [
    {
     "data": {
      "application/javascript": [
       "window.connectPlugin && window.connectPlugin()"
      ],
      "text/plain": [
       "<IPython.core.display.Javascript object>"
      ]
     },
     "metadata": {},
     "output_type": "display_data"
    },
    {
     "data": {
      "text/html": [
       "<div id=\"7068bf8a-1967-4769-aea6-0df83709d2ec\"></div>"
      ],
      "text/plain": [
       "<IPython.core.display.HTML object>"
      ]
     },
     "metadata": {},
     "output_type": "display_data"
    }
   ],
   "source": [
    "import numpy as np\n",
    "from imjoy import api\n",
    "\n",
    "class MyMicroscope():\n",
    "    '''Defines a Microscope plugin'''\n",
    "    async def setup(self):\n",
    "        '''initialize pymmcore '''\n",
    "        mmc = pymmcore.CMMCore()\n",
    "        mmc.setDeviceAdapterSearchPaths([MM_DIR])\n",
    "        mmc.loadSystemConfiguration(MM_CONFIG_FILE)\n",
    "        self.mmc = mmc\n",
    "    \n",
    "    def snap_image(self):\n",
    "        '''snape an image with the micromanager bridge and return it as a numpy array'''\n",
    "        self.mmc.snapImage()\n",
    "        image_array = self.mmc.getImage()\n",
    "        # for display, we can scale the image into the range of 0~255\n",
    "        image_array = (image_array/image_array.max()*255).astype('uint8')\n",
    "        return image_array\n",
    "\n",
    "    async def run(self, ctx):\n",
    "        '''acquire one image and notify the user'''\n",
    "        img = self.snap_image()\n",
    "        # show a popup message\n",
    "        await api.alert(\"Acquired an image (size={}) with Micro-Manager\".format(img.shape))\n",
    "\n",
    "# register the plugin to the imjoy core\n",
    "api.export(MyMicroscope())"
   ]
  },
  {
   "cell_type": "markdown",
   "metadata": {},
   "source": [
    "## Visualize the image with the itk-vtk-viewer plugin\n",
    "\n",
    "To show the images, we can use another ImJoy plugin called itk-vtk-viewer which provide rich featuers including color map, contrast stretching, scaling. It can be used directly via this link: https://oeway.github.io/itk-vtk-viewer/ as standalone web app, but also available as an ImJoy plugin.\n",
    "\n",
    "To use it, you can run `viewer = await api.showDialog(src=\"https://oeway.github.io/itk-vtk-viewer/\")` to create a viewer. The returned `viewer` object contains a set of API functions exported by the itk-vtk-viewer plugin, and we will call `viewer.imshow()` for displaying images where `imshow` is one of the API functions.\n",
    "\n",
    "Note that we need to add `await` before `api.showDialog`, but also all the returned API functions including `imshow()`.\n",
    "\n",
    "In the following plugin, we call `snape_image` and `viewer.imshow` in a for loop inside the `run` function, to continuously display the image.\n"
   ]
  },
  {
   "cell_type": "code",
   "execution_count": 20,
   "metadata": {},
   "outputs": [
    {
     "data": {
      "application/javascript": [
       "window.connectPlugin && window.connectPlugin()"
      ],
      "text/plain": [
       "<IPython.core.display.Javascript object>"
      ]
     },
     "metadata": {},
     "output_type": "display_data"
    },
    {
     "data": {
      "text/html": [
       "<div id=\"0051988c-0c91-4058-99ec-dfdad327d48c\"></div>"
      ],
      "text/plain": [
       "<IPython.core.display.HTML object>"
      ]
     },
     "metadata": {},
     "output_type": "display_data"
    }
   ],
   "source": [
    "import numpy as np\n",
    "from imjoy import api\n",
    "import pymmcore\n",
    "import os.path\n",
    "\n",
    "MM_DIR = \"./mmcore\"\n",
    "MM_CONFIG_FILE = os.path.join(MM_DIR, \"MMConfig_demo.cfg\")\n",
    "\n",
    "mmc = pymmcore.CMMCore()\n",
    "mmc.setDeviceAdapterSearchPaths([MM_DIR])\n",
    "mmc.loadSystemConfiguration(MM_CONFIG_FILE)\n",
    "mmcore = mmc\n",
    "\n",
    "class MyMicroscope():\n",
    "    def setup(self):\n",
    "        self._core = mmcore\n",
    "        self._core.setExposure(float(10))\n",
    "        exposure = self._core.getExposure()\n",
    "        api.showMessage('MMcore loaded, exposure: ' + str(exposure))\n",
    "    \n",
    "    def snapImage(self):\n",
    "        self._core.snapImage()\n",
    "        image_array = self._core.getImage()\n",
    "        image_array = (image_array/image_array.max()*255).astype('uint8')\n",
    "        return image_array\n",
    "\n",
    "    async def run(self, ctx):\n",
    "        viewer = await api.showDialog(type=\"itk-vtk-viewer\",\n",
    "                                      src=\"https://oeway.github.io/itk-vtk-viewer/\")\n",
    "        api.showMessage('Acquiring 30 images')\n",
    "        for i in range(30):\n",
    "            await viewer.imshow(self.snapImage())\n",
    "        api.showMessage('Done.')\n",
    "        \n",
    "api.export(MyMicroscope())"
   ]
  },
  {
   "cell_type": "markdown",
   "metadata": {},
   "source": [
    "The itk-vtk-viewer plugin provides rich features for inspecting the displayed image, but it does not provide features to control the microscope.\n",
    "\n",
    "## Use a dedicated UI plugin with Micro-Manager\n",
    "\n",
    "ImJoy allows developers build custom plugins and can be easily used later in another plugin. For example, we can add buttons to snap image, provide options to change exposure in a custom UI plugin.\n",
    "\n",
    "For working with Micro-Manager, we made a dedicated UI plugin called \"PycroCam\" which can be referred via https://gist.github.com/oeway/f59c1d1c49c94a831e5e21ba4c6111dd. If you are interested in how to make such a plugin, cick the link and you will see the plugin source code in HTML, Javascript and CSS.\n",
    "\n",
    "For this tutorial, we will focuse on using such a plugin with Micro-Manager and it's as easy as calling `pycrocam = await api.createWindow(src=\"https://gist.github.com/oeway/f59c1d1c49c94a831e5e21ba4c6111dd\", data={...})`.\n",
    "\n",
    "Slightly different from the above example where we create a window via `api.createWindow` and we use the returned `viewer` object to access API functions such as `imshow`. In this example, we will directly pass a set of Micro-Manager core api functions to the `PycroCam` plugin so we can directly control the microscope within the plugin.\n",
    "\n",
    "In the following `run` function, you will see that we first construct a dictionary (named `mmcore_api`) with a set of functions required by the plugin including `snapImage`, `getImage` and `setExposure`. Then we pass the dictionary into `api.createWindow()` as a keyword `data`, specifically, `data={'mmcore': mmcore_api}`. \n",
    "\n",
    "\n",
    "Run the following cell, and you will see the PycroCam UI with snap and live buttons, set exposure and binning. In addition you can click the \"Device Properties\" which will popup a device property browser. Just like the one in Micro-Manager itself, you can change almost any property with that."
   ]
  },
  {
   "cell_type": "code",
   "execution_count": null,
   "metadata": {},
   "outputs": [],
   "source": [
    "import time\n",
    "from imjoy import api\n",
    "import numpy as np\n",
    "import pymmcore\n",
    "import os.path\n",
    "\n",
    "MM_DIR = \"./mmcore\"\n",
    "MM_CONFIG_FILE = os.path.join(MM_DIR, \"MMConfig_demo.cfg\")\n",
    "\n",
    "\n",
    "class MyMicroscope():\n",
    "    async def setup(self):\n",
    "        self.mmc = pymmcore.CMMCore()\n",
    "        self.mmc.setDeviceAdapterSearchPaths([MM_DIR])\n",
    "        self.mmc.loadSystemConfiguration(MM_CONFIG_FILE)\n",
    "\n",
    "        exposure = self.mmc.getExposure()\n",
    "        api.showMessage('MMcore loaded, exposure: ' + str(exposure))\n",
    "\n",
    "    def snap_image(self):\n",
    "        if self.mmc.isSequenceRunning():\n",
    "            self.mmc.stopSequenceAcquisition()\n",
    "        self.mmc.snapImage()\n",
    "        image_array = self.mmc.getImage()\n",
    "        image_array = (image_array/image_array.max()*255).astype('uint8')\n",
    "        return image_array\n",
    "    \n",
    "    def get_image(self):\n",
    "        # we can also check remaining with getRemainingImageCount()\n",
    "        image_array = self.mmc.getImage()\n",
    "        image_array = (image_array/image_array.max()*255).astype('uint8')\n",
    "        return image_array\n",
    "\n",
    "    def get_device_properties(self):\n",
    "        devices = self.mmc.getLoadedDevices()\n",
    "        device_items = []\n",
    "        for device in devices:\n",
    "            props = self.mmc.getDevicePropertyNames(device)\n",
    "            property_items = []\n",
    "            for prop in props:\n",
    "                value = self.mmc.getProperty(device, prop)\n",
    "                is_read_only = self.mmc.isPropertyReadOnly(device, prop)\n",
    "                if self.mmc.hasPropertyLimits(device, prop):\n",
    "                    lower = self.mmc.getPropertyLowerLimit(device, prop)\n",
    "                    upper = self.mmc.getPropertyUpperLimit(device, prop)\n",
    "                    allowed = {\"type\": \"range\", \"min\": lower, \"max\": upper, \"readOnly\": is_read_only}\n",
    "                else:\n",
    "                    allowed = self.mmc.getAllowedPropertyValues(device, prop)\n",
    "                    allowed = {\"type\": \"enum\", \"options\": allowed, \"readOnly\": is_read_only}\n",
    "                property_items.append({\"device\": device, \"name\": prop, \"value\": value, \"allowed\": allowed})\n",
    "                # print('===>', device, prop, value, allowed)\n",
    "            if len(property_items) > 0:\n",
    "                device_items.append({\"name\": device, \"value\": \"{} properties\".format(len(props)), \"items\": property_items})\n",
    "        return device_items\n",
    "\n",
    "    async def run(self, ctx):\n",
    "        mmcore_api = {\n",
    "            \"_rintf\": True,\n",
    "            \"snapImage\": self.snap_image,\n",
    "            \"getImage\": self.get_image,\n",
    "            \"getDeviceProperties\": self.get_device_properties,\n",
    "            \"getCameraDevice\": self.mmc.getCameraDevice,\n",
    "            \"setCameraDevice\": self.mmc.setCameraDevice,\n",
    "            \"startContinuousSequenceAcquisition\": self.mmc.startContinuousSequenceAcquisition,\n",
    "            \"stopSequenceAcquisition\": self.mmc.stopSequenceAcquisition,\n",
    "            \"setExposure\": self.mmc.setExposure,\n",
    "            \"getExposure\": self.mmc.getExposure,\n",
    "            \"setProperty\": self.mmc.setProperty,\n",
    "            \"getProperty\": self.mmc.getProperty\n",
    "        }\n",
    "        viewer = await api.createWindow(src=\"https://gist.github.com/oeway/f59c1d1c49c94a831e5e21ba4c6111dd\", data={'mmcore': mmcore_api})\n",
    "\n",
    "api.export(MyMicroscope())"
   ]
  },
  {
   "cell_type": "code",
   "execution_count": null,
   "metadata": {},
   "outputs": [],
   "source": []
  }
 ],
 "metadata": {
  "kernelspec": {
   "display_name": "Python 3",
   "language": "python",
   "name": "python3"
  },
  "language_info": {
   "codemirror_mode": {
    "name": "ipython",
    "version": 3
   },
   "file_extension": ".py",
   "mimetype": "text/x-python",
   "name": "python",
   "nbconvert_exporter": "python",
   "pygments_lexer": "ipython3",
   "version": "3.7.8"
  }
 },
 "nbformat": 4,
 "nbformat_minor": 2
}
